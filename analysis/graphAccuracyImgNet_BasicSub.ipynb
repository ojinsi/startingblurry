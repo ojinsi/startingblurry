{
 "cells": [
  {
   "cell_type": "code",
   "execution_count": 1,
   "id": "8ef9b367-dc66-4068-93f7-9575fc80bd42",
   "metadata": {},
   "outputs": [],
   "source": [
    "import csv\n",
    "import matplotlib.pyplot as plt \n",
    "from matplotlib import cm\n",
    "import pandas as pd\n",
    "import numpy as np\n",
    "import os\n",
    "\n",
    "import scipy.stats\n",
    "\n",
    "import statsmodels.stats.multitest\n",
    "fdr = statsmodels.stats.multitest.fdrcorrection\n",
    "\n",
    "import stats_utils\n",
    "import plot_utils\n",
    "\n",
    "get_moving_average = stats_utils.get_moving_average\n",
    "mixed_effect_model = stats_utils.mixed_effect_model\n",
    "\n",
    "# this should be your main project folder (startingblurry), one level up from \"analysis\"\n",
    "root = os.path.dirname(os.getcwd())"
   ]
  },
  {
   "cell_type": "markdown",
   "id": "77a7edb8-b358-44d9-83d2-58d85b423b1c",
   "metadata": {},
   "source": [
    "#### make some names and colors for the plots"
   ]
  },
  {
   "cell_type": "code",
   "execution_count": 2,
   "id": "57259ea3-e27c-47d8-8c39-c26897b30930",
   "metadata": {},
   "outputs": [],
   "source": [
    "cond_names = ['scratch','pretrain_noblur', 'pretrain_blur1', 'pretrain_blur2']\n",
    "gray_colors = cm.gray(np.linspace(0,1,4))[[1,2],:]\n",
    "blue_color = cm.Blues(np.linspace(0,1,4))[2:3,:]\n",
    "green_color = cm.Greens(np.linspace(0,1,4))[2:3,:]\n",
    "cond_colors = np.concatenate([gray_colors, blue_color, green_color], axis=0)"
   ]
  },
  {
   "cell_type": "markdown",
   "id": "3f625f12-fdcd-46e1-95b1-a447548b8421",
   "metadata": {},
   "source": [
    "#### Load evaluation on basic and subordinate categories separately"
   ]
  },
  {
   "cell_type": "code",
   "execution_count": 4,
   "id": "944e0b5c-077b-4660-ab71-e00276196378",
   "metadata": {},
   "outputs": [],
   "source": [
    "names = ['Control', 'NoBlur', 'Linear', 'NonLinear']\n",
    "\n",
    "n_conds = 4; n_trials=10;\n",
    "trials = np.arange(1,11)\n",
    "    \n",
    "basic_acc_bw = np.zeros((n_conds, n_trials))\n",
    "basic_acc_col = np.zeros((n_conds, n_trials))\n",
    "\n",
    "sub_acc_bw = np.zeros((n_conds, n_trials))\n",
    "sub_acc_col = np.zeros((n_conds, n_trials))\n",
    "\n",
    "for cc, name in enumerate(names):\n",
    "    \n",
    "    filename = os.path.join(root, 'labelAccuracy', 'BW', '%sLabelAccuracy.csv'%name)\n",
    "\n",
    "    dat = pd.read_csv(filename)\n",
    "    \n",
    "    basic_acc_bw[cc,:] = np.array(dat)[0,1:n_trials+1]\n",
    "    sub_acc_bw[cc,:] = np.array(dat)[1,1:n_trials+1]\n",
    "    \n",
    "    filename = os.path.join(root, 'labelAccuracy', 'Colored', '%sLabelAccuracy.csv'%name)\n",
    "\n",
    "    dat = pd.read_csv(filename)\n",
    "    \n",
    "    basic_acc_col[cc,:] = np.array(dat)[0,1:n_trials+1]\n",
    "    sub_acc_col[cc,:] = np.array(dat)[1,1:n_trials+1]\n",
    "    "
   ]
  },
  {
   "cell_type": "markdown",
   "id": "d1d48053-e3f1-4e5f-9d93-ea71577ffc03",
   "metadata": {},
   "source": [
    "#### Load the \"overall\" accuracy (all imagenet categories)\n",
    "Choose acc at best individual timepoint for each model, because this is the timepoint \n",
    "used to get basic/subordinate accs."
   ]
  },
  {
   "cell_type": "code",
   "execution_count": 6,
   "id": "2d9bdab4-2a7e-4d8a-a5c1-270658983140",
   "metadata": {},
   "outputs": [],
   "source": [
    "overall_acc_bw = np.zeros((n_conds, n_trials))\n",
    "overall_acc_col = np.zeros((n_conds, n_trials))\n",
    "\n",
    "for ti, tt in enumerate(trials):\n",
    "    \n",
    "    filename = os.path.join(root, 'trials', 'ColoredImgNet', \\\n",
    "                        '%d'%tt, 'trainingLogColoredModel.csv')    \n",
    "    dat = pd.read_csv(filename)\n",
    "    overall_acc_col[0,ti] = np.array(dat['Best Val Acc'])[-1]\n",
    "    \n",
    "    filename = os.path.join(root, 'trials', 'ColoredImgNet', \\\n",
    "                        '%d'%tt, 'trainingLogColoredNoBlurModel.csv')    \n",
    "    dat = pd.read_csv(filename)\n",
    "    overall_acc_col[1,ti] = np.array(dat['Best Val Acc'])[-1]\n",
    "    \n",
    "    filename = os.path.join(root, 'trials', 'ColoredImgNet', \\\n",
    "                        '%d'%tt, 'trainingLogColoredLinearBlurModel.csv')    \n",
    "    dat = pd.read_csv(filename)\n",
    "    overall_acc_col[2,ti] = np.array(dat['Best Val Acc'])[-1]\n",
    "\n",
    "    filename = os.path.join(root, 'trials', 'ColoredImgNet', \\\n",
    "                        '%d'%tt, 'trainingLogColoredNonLinearBlurModel2.csv')    \n",
    "    dat = pd.read_csv(filename)\n",
    "    overall_acc_col[3,ti] = np.array(dat['Best Val Acc'])[-1]\n",
    "    \n",
    "    \n",
    "    \n",
    "    filename = os.path.join(root, 'trials', 'BWImgNet', \\\n",
    "                        '%d'%tt, 'trainingLogBWModel.csv')    \n",
    "    dat = pd.read_csv(filename)\n",
    "    overall_acc_bw[0,ti] = np.array(dat['Best Val Acc'])[-1]\n",
    "    \n",
    "    filename = os.path.join(root, 'trials', 'BWImgNet', \\\n",
    "                        '%d'%tt, 'trainingLogBWNoBlurModel.csv')    \n",
    "    dat = pd.read_csv(filename)\n",
    "    overall_acc_bw[1,ti] = np.array(dat['Best Val Acc'])[-1]\n",
    "    \n",
    "    filename = os.path.join(root, 'trials', 'BWImgNet', \\\n",
    "                        '%d'%tt, 'trainingLogBWLinearBlurModel.csv')    \n",
    "    dat = pd.read_csv(filename)\n",
    "    overall_acc_bw[2,ti] = np.array(dat['Best Val Acc'])[-1]\n",
    "    \n",
    "    filename = os.path.join(root, 'trials', 'BWImgNet', \\\n",
    "                        '%d'%tt, 'trainingLogBWNonLinearBlurModel2.csv')    \n",
    "    dat = pd.read_csv(filename)\n",
    "    overall_acc_bw[3,ti] = np.array(dat['Best Val Acc'])[-1]\n",
    "    "
   ]
  },
  {
   "cell_type": "code",
   "execution_count": 7,
   "id": "ab72c504-eaf4-48cd-84dd-e5fb535a9474",
   "metadata": {},
   "outputs": [],
   "source": [
    "# pairwise comparisons: control vs blur 1, control vs blur 2, blur 1 vs blur 2, etc\n",
    "# 6 possible pairwise comparisons here\n",
    "conds_compare = [[0,1], [0,2], [0,3], [1,2], [1,3], [2,3]]\n",
    "\n",
    "cond_comparisons = ['%s vs %s'%(cond_names[cc[0]], cond_names[cc[1]]) for cc in conds_compare]\n",
    "\n",
    "tvals_basicsub_bw = np.zeros((len(conds_compare),3))\n",
    "pvals_basicsub_bw = np.zeros((len(conds_compare),3))\n",
    "tvals_basicsub_col = np.zeros((len(conds_compare),3))\n",
    "pvals_basicsub_col = np.zeros((len(conds_compare),3))\n",
    "\n",
    "for cc, conds in enumerate(conds_compare):\n",
    "    \n",
    "    t,p = scipy.stats.ttest_ind(overall_acc_bw[conds[0],:],overall_acc_bw[conds[1],:], axis=0)\n",
    "    tvals_basicsub_bw[cc,0] = t;\n",
    "    pvals_basicsub_bw[cc,0] = p;\n",
    "    \n",
    "    t,p = scipy.stats.ttest_ind(basic_acc_bw[conds[0],:],basic_acc_bw[conds[1],:], axis=0)\n",
    "    tvals_basicsub_bw[cc,1] = t;\n",
    "    pvals_basicsub_bw[cc,1] = p;\n",
    "    \n",
    "    t,p = scipy.stats.ttest_ind(sub_acc_bw[conds[0],:],sub_acc_bw[conds[1],:], axis=0)\n",
    "    tvals_basicsub_bw[cc,2] = t;\n",
    "    pvals_basicsub_bw[cc,2] = p;\n",
    "    \n",
    "    \n",
    "    t,p = scipy.stats.ttest_ind(overall_acc_col[conds[0],:],overall_acc_col[conds[1],:], axis=0)\n",
    "    tvals_basicsub_col[cc,0] = t;\n",
    "    pvals_basicsub_col[cc,0] = p;\n",
    "    \n",
    "    t,p = scipy.stats.ttest_ind(basic_acc_col[conds[0],:],basic_acc_col[conds[1],:], axis=0)\n",
    "    tvals_basicsub_col[cc,1] = t;\n",
    "    pvals_basicsub_col[cc,1] = p;\n",
    "    \n",
    "    t,p = scipy.stats.ttest_ind(sub_acc_col[conds[0],:],sub_acc_col[conds[1],:], axis=0)\n",
    "    tvals_basicsub_col[cc,2] = t;\n",
    "    pvals_basicsub_col[cc,2] = p;\n",
    "    \n",
    "\n",
    "#### FDR correction\n",
    "\n",
    "mask_basicsub_bw, pvals_basicsub_bw_corr = fdr(pvals_basicsub_bw.ravel(), alpha=0.05)\n",
    "mask_basicsub_bw = np.reshape(mask_basicsub_bw, (len(conds_compare), 3))\n",
    "\n",
    "mask_basicsub_col, pvals_basicsub_col_corr = fdr(pvals_basicsub_col.ravel(), alpha=0.05)\n",
    "mask_basicsub_col = np.reshape(mask_basicsub_col, (len(conds_compare), 3))\n"
   ]
  },
  {
   "cell_type": "markdown",
   "id": "bc28f253-b49d-4ce0-8412-5bce9d181fdd",
   "metadata": {
    "tags": []
   },
   "source": [
    "#### Plot results for grayscale model"
   ]
  },
  {
   "cell_type": "code",
   "execution_count": 9,
   "id": "34f59667-aadb-4b20-ace1-98099d912909",
   "metadata": {
    "tags": []
   },
   "outputs": [
    {
     "data": {
      "image/png": "[encoded data removed]",
      "text/plain": [
       "<Figure size 1152x576 with 3 Axes>"
      ]
     },
     "metadata": {
      "needs_background": "light"
     },
     "output_type": "display_data"
    }
   ],
   "source": [
    "plt.rcParams['pdf.fonttype']=42\n",
    "plot_utils.set_all_font_sizes(16)\n",
    "\n",
    "offsets = [0, -0.01, 0.04]\n",
    "\n",
    "plt.figure(figsize=(16,8))\n",
    "pi=0;\n",
    "for vals, name, mask_fdr in zip([overall_acc_bw, basic_acc_bw, sub_acc_bw], \\\n",
    "                                ['Overall', 'Basic', 'Subordinate'], \\\n",
    "                            [mask_basicsub_bw[:,0], mask_basicsub_bw[:,1], mask_basicsub_bw[:,2]]):\n",
    "    pi+=1\n",
    "    plt.subplot(1,3,pi)\n",
    "    \n",
    "    meanvals = np.mean(vals, axis=1)\n",
    "    semvals = np.std(vals, axis=1)/np.sqrt(n_trials)\n",
    "    \n",
    "    plt.bar(np.arange(n_conds), meanvals, color=cond_colors)\n",
    "    plt.errorbar(np.arange(n_conds), meanvals, semvals, color='k', linestyle='none',zorder=15)\n",
    "    for cc in range(n_conds):\n",
    "        plt.plot(cc*np.ones((n_trials,)), vals[cc,:], '.', color=[0.8, 0.8, 0.8], zorder=10)\n",
    "    plt.xticks(np.arange(n_conds), cond_names, rotation=45)\n",
    "\n",
    "    plt.ylim([0.0, 1.05])\n",
    "\n",
    "    # add brackets for comparisons\n",
    "    # the significance tests are already done, last timepoint from above plots\n",
    "    bracket_text = ['*' if mask else 'n.s.' for mask in mask_fdr]\n",
    "\n",
    "    hts = np.linspace(0.5, 0.90, len(conds_compare))+offsets[pi-1]\n",
    "    vert_space = 0.02\n",
    "    horiz_space=0.02\n",
    "    xpairs = conds_compare\n",
    "    for ii in range(len(xpairs)):\n",
    "\n",
    "        plt.plot(\n",
    "                [xpairs[ii][0]-horiz_space, xpairs[ii][0]-horiz_space, \\\n",
    "                 xpairs[ii][1]+horiz_space, xpairs[ii][1]+horiz_space],\n",
    "                [hts[ii], hts[ii]+vert_space, hts[ii]+vert_space, hts[ii]],\n",
    "                \"-\",\n",
    "                color=\"k\",\n",
    "            )\n",
    "\n",
    "        plt.gca().annotate(\n",
    "            bracket_text[ii],\n",
    "            xy=(np.mean(xpairs[ii]), hts[ii]+vert_space*2),\n",
    "            zorder=10,\n",
    "            color=\"k\",\n",
    "            ha=\"center\",\n",
    "            fontsize=12,\n",
    "        )\n",
    "\n",
    "    plt.title('Grayscale: %s Accuracy'%name);\n",
    "    plt.ylabel('Accuracy')\n",
    "    \n",
    "fn2save = os.path.join(root, 'analysis', 'figures', 'ImageNet_bestacc_grayscale.pdf')\n",
    "plt.savefig(fn2save)"
   ]
  }
 ],
 "metadata": {
  "kernelspec": {
   "display_name": "Python 3",
   "language": "python",
   "name": "python3"
  },
  "language_info": {
   "codemirror_mode": {
    "name": "ipython",
    "version": 3
   },
   "file_extension": ".py",
   "mimetype": "text/x-python",
   "name": "python",
   "nbconvert_exporter": "python",
   "pygments_lexer": "ipython3",
   "version": "3.7.1"
  }
 },
 "nbformat": 4,
 "nbformat_minor": 5
}
